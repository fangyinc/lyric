{
 "cells": [
  {
   "cell_type": "markdown",
   "metadata": {},
   "source": [
    "# TypeScript Support\n",
    "\n",
    "This notebook demonstrates how to use TypeScript in lyric."
   ]
  },
  {
   "cell_type": "code",
   "execution_count": 1,
   "metadata": {},
   "outputs": [],
   "source": [
    "from lyric import DefaultLyricDriver\n",
    "\n",
    "lcd = DefaultLyricDriver(host=\"127.0.0.1\", log_level=\"ERROR\")\n",
    "lcd.start()\n",
    "\n",
    "# Load workers(default: Python, JavaScript)\n",
    "# await lcd.lyric.load_default_workers() // Not necessary"
   ]
  },
  {
   "cell_type": "markdown",
   "metadata": {},
   "source": [
    "## Install lyric-component-ts-transpiling\n",
    "\n",
    "In lyric, typescript is not supported directly. This package is a component that transpiles typescript to javascript.\n",
    "\n",
    "```bash\n",
    "pip install lyric-component-ts-transpiling\n",
    "```"
   ]
  },
  {
   "cell_type": "code",
   "execution_count": 2,
   "metadata": {},
   "outputs": [],
   "source": [
    "from lyric_component_ts_transpiling import TypeScriptWasmTaskSpec\n",
    "from lyric.py_lyric import TypeScriptComponentLoader, Language, JavaScriptWorkerLoader\n",
    "\n",
    "ts_worker_name = \"ts_worker\"\n",
    "# Register javascript worker\n",
    "lcd.lyric.register_worker(ts_worker_name, Language.JAVASCRIPT, JavaScriptWorkerLoader())"
   ]
  },
  {
   "cell_type": "code",
   "execution_count": 3,
   "metadata": {},
   "outputs": [
    {
     "data": {
      "text/plain": [
       "HandleItem(worker_info=WorkerInfo(name='ts_worker', lang=<Language.JAVASCRIPT: 1>, loader=<lyric.py_lyric.JavaScriptWorkerLoader object at 0x10f6cdf00>, dependencies=[]), handle=<builtins.PyTaskHandle object at 0x10f6ce070>, environment_config=<builtins.PyEnvironmentConfig object at 0x10f5f9570>, dependencies=[<builtins.PyTaskHandle object at 0x10f689da0>])"
      ]
     },
     "execution_count": 3,
     "metadata": {},
     "output_type": "execute_result"
    }
   ],
   "source": [
    "# Load javascript worker with TypeScriptComponentLoader as dependencies\n",
    "await lcd.lyric.load_worker(ts_worker_name, dependencies=[TypeScriptComponentLoader()])"
   ]
  },
  {
   "cell_type": "code",
   "execution_count": 4,
   "metadata": {},
   "outputs": [
    {
     "name": "stdout",
     "output_type": "stream",
     "text": [
      "[\"local_798ab628d0ec0ba3@35759259-4ad8-4aef-b827-0a407980b802\"]: \"[JavaScript-InterpreterTask] script: {\\\"protocol\\\":1,\\\"lang\\\":\\\"TYPESCRIPT\\\",\\\"code\\\":\\\"\\\\ninterface Point {\\\\n    x: number;\\\\n    y: number;\\\\n}\\\\n\\\\nfunction calculateDistance(p1: Point, p2: Point): number {\\\\n    const dx = p2.x - p1.x;\\\\n    const dy = p2.y - p1.y;\\\\n    return Math.sqrt(dx * dx + dy * dy);\\\\n}\\\\n\\\\n\\\\nconst point1: Point = { x: 0, y: 0 };\\\\nconst point2: Point = { x: 3, y: 4 };\\\\n\\\\nconst distance = calculateDistance(point1, point2);\\\\nconsole.log(`The distance between the two points is ${distance}`);\\\\n\\\"}\"\n",
      "[\"local_798ab628d0ec0ba3@35759259-4ad8-4aef-b827-0a407980b802\"]: \"Transpiling TypeScript code to JavaScript\"\n",
      "[\"local_798ab628d0ec0ba3@35759259-4ad8-4aef-b827-0a407980b802\"]: \"Transpiled TypeScript code to JavaScript: function calculateDistance(p1, p2) {\"\n",
      "[\"local_798ab628d0ec0ba3@35759259-4ad8-4aef-b827-0a407980b802\"]: \"  const dx = p2.x - p1.x;\"\n",
      "[\"local_798ab628d0ec0ba3@35759259-4ad8-4aef-b827-0a407980b802\"]: \"  const dy = p2.y - p1.y;\"\n",
      "[\"local_798ab628d0ec0ba3@35759259-4ad8-4aef-b827-0a407980b802\"]: \"  return Math.sqrt(dx * dx + dy * dy);\"\n",
      "[\"local_798ab628d0ec0ba3@35759259-4ad8-4aef-b827-0a407980b802\"]: \"}\"\n",
      "[\"local_798ab628d0ec0ba3@35759259-4ad8-4aef-b827-0a407980b802\"]: \"const point1 = {\"\n",
      "[\"local_798ab628d0ec0ba3@35759259-4ad8-4aef-b827-0a407980b802\"]: \"  x: 0,\"\n",
      "[\"local_798ab628d0ec0ba3@35759259-4ad8-4aef-b827-0a407980b802\"]: \"  y: 0\"\n",
      "[\"local_798ab628d0ec0ba3@35759259-4ad8-4aef-b827-0a407980b802\"]: \"};\"\n",
      "[\"local_798ab628d0ec0ba3@35759259-4ad8-4aef-b827-0a407980b802\"]: \"const point2 = {\"\n",
      "[\"local_798ab628d0ec0ba3@35759259-4ad8-4aef-b827-0a407980b802\"]: \"  x: 3,\"\n",
      "[\"local_798ab628d0ec0ba3@35759259-4ad8-4aef-b827-0a407980b802\"]: \"  y: 4\"\n",
      "[\"local_798ab628d0ec0ba3@35759259-4ad8-4aef-b827-0a407980b802\"]: \"};\"\n",
      "[\"local_798ab628d0ec0ba3@35759259-4ad8-4aef-b827-0a407980b802\"]: \"const distance = calculateDistance(point1, point2);\"\n",
      "[\"local_798ab628d0ec0ba3@35759259-4ad8-4aef-b827-0a407980b802\"]: \"console.log(`The distance between the two points is ${distance}`);\"\n",
      "[\"local_798ab628d0ec0ba3@35759259-4ad8-4aef-b827-0a407980b802\"]: \"\"\n",
      "[\"local_798ab628d0ec0ba3@35759259-4ad8-4aef-b827-0a407980b802\"]: \"Begin to run javascript code in interpreter Task\"\n",
      "[\"local_798ab628d0ec0ba3@35759259-4ad8-4aef-b827-0a407980b802\"]: \"The distance between the two points is 5\"\n",
      "CodeResult(exit_code=0, stdout='Begin to run javascript code in interpreter Task\\nThe distance between the two points is 5', stderr='', output=None)\n"
     ]
    }
   ],
   "source": [
    "ts_code = \"\"\"\n",
    "interface Point {\n",
    "    x: number;\n",
    "    y: number;\n",
    "}\n",
    "\n",
    "function calculateDistance(p1: Point, p2: Point): number {\n",
    "    const dx = p2.x - p1.x;\n",
    "    const dy = p2.y - p1.y;\n",
    "    return Math.sqrt(dx * dx + dy * dy);\n",
    "}\n",
    "\n",
    "\n",
    "const point1: Point = { x: 0, y: 0 };\n",
    "const point2: Point = { x: 3, y: 4 };\n",
    "\n",
    "const distance = calculateDistance(point1, point2);\n",
    "console.log(`The distance between the two points is ${distance}`);\n",
    "\"\"\"\n",
    "\n",
    "js_res = await lcd.exec(ts_code, \"typescript\", worker_name=ts_worker_name)\n",
    "print(js_res)"
   ]
  },
  {
   "cell_type": "code",
   "execution_count": 5,
   "metadata": {},
   "outputs": [
    {
     "name": "stdout",
     "output_type": "stream",
     "text": [
      "[\"local_798ab628d0ec0ba3@35759259-4ad8-4aef-b827-0a407980b802\"]: \"[JavaScript-InterpreterTask] script: {\\\"protocol\\\":1,\\\"lang\\\":\\\"TYPESCRIPT\\\",\\\"code\\\":\\\"\\\\n// Use an index signature to define a message dictionary that can contain any fields\\\\ninterface MessageDictionary {\\\\n    user_message: string;      // Keep the required fields\\\\n    ai_message: string;        // Keep the required fields\\\\n    [key: string]: string;     // Allow any other fields\\\\n}\\\\n\\\\ninterface MessageHandlerResult {\\\\n    user: string;\\\\n    ai: string;\\\\n    all: string[];\\\\n    custom: string;\\\\n    handler_language: string;\\\\n}\\\\n\\\\nfunction message_handler(message_dict: MessageDictionary): MessageHandlerResult {\\\\n    return {\\\\n        user: message_dict.user_message,\\\\n        ai: message_dict.ai_message,\\\\n        all: [message_dict.user_message, message_dict.ai_message],\\\\n        custom: \\\\\\\"custom\\\\\\\",\\\\n        handler_language: \\\\\\\"javascript\\\\\\\",\\\\n    };\\\\n}\\\\n\\\"}\"\n",
      "[\"local_798ab628d0ec0ba3@35759259-4ad8-4aef-b827-0a407980b802\"]: \"[JavaScript-InterpreterTask] call_name: message_handler\"\n",
      "[\"local_798ab628d0ec0ba3@35759259-4ad8-4aef-b827-0a407980b802\"]: \"Transpiling TypeScript code to JavaScript\"\n",
      "[\"local_798ab628d0ec0ba3@35759259-4ad8-4aef-b827-0a407980b802\"]: \"Transpiled TypeScript code to JavaScript: // Use an index signature to define a message dictionary that can contain any fields\"\n",
      "[\"local_798ab628d0ec0ba3@35759259-4ad8-4aef-b827-0a407980b802\"]: \"function message_handler(message_dict) {\"\n",
      "[\"local_798ab628d0ec0ba3@35759259-4ad8-4aef-b827-0a407980b802\"]: \"  return {\"\n",
      "[\"local_798ab628d0ec0ba3@35759259-4ad8-4aef-b827-0a407980b802\"]: \"    user: message_dict.user_message,\"\n",
      "[\"local_798ab628d0ec0ba3@35759259-4ad8-4aef-b827-0a407980b802\"]: \"    ai: message_dict.ai_message,\"\n",
      "[\"local_798ab628d0ec0ba3@35759259-4ad8-4aef-b827-0a407980b802\"]: \"    all: [\"\n",
      "[\"local_798ab628d0ec0ba3@35759259-4ad8-4aef-b827-0a407980b802\"]: \"      message_dict.user_message,\"\n",
      "[\"local_798ab628d0ec0ba3@35759259-4ad8-4aef-b827-0a407980b802\"]: \"      message_dict.ai_message\"\n",
      "[\"local_798ab628d0ec0ba3@35759259-4ad8-4aef-b827-0a407980b802\"]: \"    ],\"\n",
      "[\"local_798ab628d0ec0ba3@35759259-4ad8-4aef-b827-0a407980b802\"]: \"    custom: \\\"custom\\\",\"\n",
      "[\"local_798ab628d0ec0ba3@35759259-4ad8-4aef-b827-0a407980b802\"]: \"    handler_language: \\\"javascript\\\"\"\n",
      "[\"local_798ab628d0ec0ba3@35759259-4ad8-4aef-b827-0a407980b802\"]: \"  };\"\n",
      "[\"local_798ab628d0ec0ba3@35759259-4ad8-4aef-b827-0a407980b802\"]: \"}\"\n",
      "[\"local_798ab628d0ec0ba3@35759259-4ad8-4aef-b827-0a407980b802\"]: \"\"\n",
      "[\"local_798ab628d0ec0ba3@35759259-4ad8-4aef-b827-0a407980b802\"]: \"The code is: \"\n",
      "[\"local_798ab628d0ec0ba3@35759259-4ad8-4aef-b827-0a407980b802\"]: \"\"\n",
      "[\"local_798ab628d0ec0ba3@35759259-4ad8-4aef-b827-0a407980b802\"]: \"// Use an index signature to define a message dictionary that can contain any fields\"\n",
      "[\"local_798ab628d0ec0ba3@35759259-4ad8-4aef-b827-0a407980b802\"]: \"interface MessageDictionary {\"\n",
      "[\"local_798ab628d0ec0ba3@35759259-4ad8-4aef-b827-0a407980b802\"]: \"    user_message: string;      // Keep the required fields\"\n",
      "[\"local_798ab628d0ec0ba3@35759259-4ad8-4aef-b827-0a407980b802\"]: \"    ai_message: string;        // Keep the required fields\"\n",
      "[\"local_798ab628d0ec0ba3@35759259-4ad8-4aef-b827-0a407980b802\"]: \"    [key: string]: string;     // Allow any other fields\"\n",
      "[\"local_798ab628d0ec0ba3@35759259-4ad8-4aef-b827-0a407980b802\"]: \"}\"\n",
      "[\"local_798ab628d0ec0ba3@35759259-4ad8-4aef-b827-0a407980b802\"]: \"\"\n",
      "[\"local_798ab628d0ec0ba3@35759259-4ad8-4aef-b827-0a407980b802\"]: \"interface MessageHandlerResult {\"\n",
      "[\"local_798ab628d0ec0ba3@35759259-4ad8-4aef-b827-0a407980b802\"]: \"    user: string;\"\n",
      "[\"local_798ab628d0ec0ba3@35759259-4ad8-4aef-b827-0a407980b802\"]: \"    ai: string;\"\n",
      "[\"local_798ab628d0ec0ba3@35759259-4ad8-4aef-b827-0a407980b802\"]: \"    all: string[];\"\n",
      "[\"local_798ab628d0ec0ba3@35759259-4ad8-4aef-b827-0a407980b802\"]: \"    custom: string;\"\n",
      "[\"local_798ab628d0ec0ba3@35759259-4ad8-4aef-b827-0a407980b802\"]: \"    handler_language: string;\"\n",
      "[\"local_798ab628d0ec0ba3@35759259-4ad8-4aef-b827-0a407980b802\"]: \"}\"\n",
      "[\"local_798ab628d0ec0ba3@35759259-4ad8-4aef-b827-0a407980b802\"]: \"\"\n",
      "[\"local_798ab628d0ec0ba3@35759259-4ad8-4aef-b827-0a407980b802\"]: \"function message_handler(message_dict: MessageDictionary): MessageHandlerResult {\"\n",
      "[\"local_798ab628d0ec0ba3@35759259-4ad8-4aef-b827-0a407980b802\"]: \"    return {\"\n",
      "[\"local_798ab628d0ec0ba3@35759259-4ad8-4aef-b827-0a407980b802\"]: \"        user: message_dict.user_message,\"\n",
      "[\"local_798ab628d0ec0ba3@35759259-4ad8-4aef-b827-0a407980b802\"]: \"        ai: message_dict.ai_message,\"\n",
      "[\"local_798ab628d0ec0ba3@35759259-4ad8-4aef-b827-0a407980b802\"]: \"        all: [message_dict.user_message, message_dict.ai_message],\"\n",
      "[\"local_798ab628d0ec0ba3@35759259-4ad8-4aef-b827-0a407980b802\"]: \"        custom: \\\"custom\\\",\"\n",
      "[\"local_798ab628d0ec0ba3@35759259-4ad8-4aef-b827-0a407980b802\"]: \"        handler_language: \\\"javascript\\\",\"\n",
      "[\"local_798ab628d0ec0ba3@35759259-4ad8-4aef-b827-0a407980b802\"]: \"    };\"\n",
      "[\"local_798ab628d0ec0ba3@35759259-4ad8-4aef-b827-0a407980b802\"]: \"}\"\n",
      "[\"local_798ab628d0ec0ba3@35759259-4ad8-4aef-b827-0a407980b802\"]: \"\"\n",
      "[\"local_798ab628d0ec0ba3@35759259-4ad8-4aef-b827-0a407980b802\"]: \"[JavaScript-InterpreterTask] dynamicFunction: function message_handler(message_dict) {\"\n",
      "[\"local_798ab628d0ec0ba3@35759259-4ad8-4aef-b827-0a407980b802\"]: \"  return {\"\n",
      "[\"local_798ab628d0ec0ba3@35759259-4ad8-4aef-b827-0a407980b802\"]: \"    user: message_dict.user_message,\"\n",
      "[\"local_798ab628d0ec0ba3@35759259-4ad8-4aef-b827-0a407980b802\"]: \"    ai: message_dict.ai_message,\"\n",
      "[\"local_798ab628d0ec0ba3@35759259-4ad8-4aef-b827-0a407980b802\"]: \"    all: [\"\n",
      "[\"local_798ab628d0ec0ba3@35759259-4ad8-4aef-b827-0a407980b802\"]: \"      message_dict.user_message,\"\n",
      "[\"local_798ab628d0ec0ba3@35759259-4ad8-4aef-b827-0a407980b802\"]: \"      message_dict.ai_message\"\n",
      "[\"local_798ab628d0ec0ba3@35759259-4ad8-4aef-b827-0a407980b802\"]: \"    ],\"\n",
      "[\"local_798ab628d0ec0ba3@35759259-4ad8-4aef-b827-0a407980b802\"]: \"    custom: \\\"custom\\\",\"\n",
      "[\"local_798ab628d0ec0ba3@35759259-4ad8-4aef-b827-0a407980b802\"]: \"    handler_language: \\\"javascript\\\"\"\n",
      "[\"local_798ab628d0ec0ba3@35759259-4ad8-4aef-b827-0a407980b802\"]: \"  };\"\n",
      "[\"local_798ab628d0ec0ba3@35759259-4ad8-4aef-b827-0a407980b802\"]: \"}\"\n",
      "TypeScript function result: CodeResult(exit_code=0, stdout='The code is: \\n\\n// Use an index signature to define a message dictionary that can contain any fields\\ninterface MessageDictionary {\\n    user_message: string;      // Keep the required fields\\n    ai_message: string;        // Keep the required fields\\n    [key: string]: string;     // Allow any other fields\\n}\\n\\ninterface MessageHandlerResult {\\n    user: string;\\n    ai: string;\\n    all: string[];\\n    custom: string;\\n    handler_language: string;\\n}\\n\\nfunction message_handler(message_dict: MessageDictionary): MessageHandlerResult {\\n    return {\\n        user: message_dict.user_message,\\n        ai: message_dict.ai_message,\\n        all: [message_dict.user_message, message_dict.ai_message],\\n        custom: \"custom\",\\n        handler_language: \"javascript\",\\n    };\\n}\\n\\n[JavaScript-InterpreterTask] dynamicFunction: function message_handler(message_dict) {\\n  return {\\n    user: message_dict.user_message,\\n    ai: message_dict.ai_message,\\n    all: [\\n      message_dict.user_message,\\n      message_dict.ai_message\\n    ],\\n    custom: \"custom\",\\n    handler_language: \"javascript\"\\n  };\\n}', stderr='', output={'ai': 'Hello from AI', 'all': ['Hello from user', 'Hello from AI'], 'custom': 'custom', 'handler_language': 'javascript', 'user': 'Hello from user'})\n",
      "Full output: CodeResult(exit_code=0, stdout='The code is: \\n\\n// Use an index signature to define a message dictionary that can contain any fields\\ninterface MessageDictionary {\\n    user_message: string;      // Keep the required fields\\n    ai_message: string;        // Keep the required fields\\n    [key: string]: string;     // Allow any other fields\\n}\\n\\ninterface MessageHandlerResult {\\n    user: string;\\n    ai: string;\\n    all: string[];\\n    custom: string;\\n    handler_language: string;\\n}\\n\\nfunction message_handler(message_dict: MessageDictionary): MessageHandlerResult {\\n    return {\\n        user: message_dict.user_message,\\n        ai: message_dict.ai_message,\\n        all: [message_dict.user_message, message_dict.ai_message],\\n        custom: \"custom\",\\n        handler_language: \"javascript\",\\n    };\\n}\\n\\n[JavaScript-InterpreterTask] dynamicFunction: function message_handler(message_dict) {\\n  return {\\n    user: message_dict.user_message,\\n    ai: message_dict.ai_message,\\n    all: [\\n      message_dict.user_message,\\n      message_dict.ai_message\\n    ],\\n    custom: \"custom\",\\n    handler_language: \"javascript\"\\n  };\\n}', stderr='', output={'ai': 'Hello from AI', 'all': ['Hello from user', 'Hello from AI'], 'custom': 'custom', 'handler_language': 'javascript', 'user': 'Hello from user'})\n"
     ]
    }
   ],
   "source": [
    "import json\n",
    "\n",
    "ts_func = \"\"\"\n",
    "// Use an index signature to define a message dictionary that can contain any fields\n",
    "interface MessageDictionary {\n",
    "    user_message: string;      // Keep the required fields\n",
    "    ai_message: string;        // Keep the required fields\n",
    "    [key: string]: string;     // Allow any other fields\n",
    "}\n",
    "\n",
    "interface MessageHandlerResult {\n",
    "    user: string;\n",
    "    ai: string;\n",
    "    all: string[];\n",
    "    custom: string;\n",
    "    handler_language: string;\n",
    "}\n",
    "\n",
    "function message_handler(message_dict: MessageDictionary): MessageHandlerResult {\n",
    "    return {\n",
    "        user: message_dict.user_message,\n",
    "        ai: message_dict.ai_message,\n",
    "        all: [message_dict.user_message, message_dict.ai_message],\n",
    "        custom: \"custom\",\n",
    "        handler_language: \"javascript\",\n",
    "    };\n",
    "}\n",
    "\"\"\"\n",
    "\n",
    "# Create a input dictionary\n",
    "input_data = {\n",
    "    \"user_message\": \"Hello from user\",\n",
    "    \"ai_message\": \"Hello from AI\",\n",
    "}\n",
    "# Convert the input dictionary to json bytes, as the input to the function(It will be converted to dictionary inside the function)\n",
    "input_bytes = json.dumps(input_data).encode(\"utf-8\")\n",
    "\n",
    "ts_func_res = await lcd.exec1(ts_func, input_bytes, \"message_handler\", lang=\"typescript\", worker_name=ts_worker_name)\n",
    "print(\"TypeScript function result:\", ts_func_res)\n",
    "print(\"Full output:\", ts_func_res)"
   ]
  },
  {
   "cell_type": "code",
   "execution_count": 6,
   "metadata": {},
   "outputs": [
    {
     "data": {
      "text/plain": [
       "{'ai': 'Hello from AI',\n",
       " 'all': ['Hello from user', 'Hello from AI'],\n",
       " 'custom': 'custom',\n",
       " 'handler_language': 'javascript',\n",
       " 'user': 'Hello from user'}"
      ]
     },
     "execution_count": 6,
     "metadata": {},
     "output_type": "execute_result"
    }
   ],
   "source": [
    "ts_func_res.output"
   ]
  }
 ],
 "metadata": {
  "kernelspec": {
   "display_name": ".venv",
   "language": "python",
   "name": "python3"
  },
  "language_info": {
   "codemirror_mode": {
    "name": "ipython",
    "version": 3
   },
   "file_extension": ".py",
   "mimetype": "text/x-python",
   "name": "python",
   "nbconvert_exporter": "python",
   "pygments_lexer": "ipython3",
   "version": "3.10.11"
  }
 },
 "nbformat": 4,
 "nbformat_minor": 2
}
